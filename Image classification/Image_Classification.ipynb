{
  "cells": [
    {
      "cell_type": "markdown",
      "id": "f85ef786",
      "metadata": {
        "id": "f85ef786"
      },
      "source": [
        "# Image classification using tensorflow"
      ]
    },
    {
      "cell_type": "code",
      "execution_count": 16,
      "id": "d7dff4fb",
      "metadata": {
        "id": "d7dff4fb"
      },
      "outputs": [],
      "source": [
        "import tensorflow as tf"
      ]
    },
    {
      "cell_type": "code",
      "execution_count": 17,
      "id": "1688a898",
      "metadata": {
        "id": "1688a898"
      },
      "outputs": [],
      "source": [
        "import tensorflow.keras as keras"
      ]
    },
    {
      "cell_type": "code",
      "execution_count": 18,
      "id": "69022a27",
      "metadata": {
        "id": "69022a27"
      },
      "outputs": [],
      "source": [
        "from keras import layers,models"
      ]
    },
    {
      "cell_type": "code",
      "source": [
        "from keras.datasets import fashion_mnist\n",
        "from keras.utils import to_categorical"
      ],
      "metadata": {
        "id": "SqUnKUlj1Fzq"
      },
      "id": "SqUnKUlj1Fzq",
      "execution_count": 19,
      "outputs": []
    },
    {
      "cell_type": "code",
      "source": [
        "(train_images, train_labels), (test_images, test_labels) = fashion_mnist.load_data()\n"
      ],
      "metadata": {
        "id": "OSjpk7QD1Q8H"
      },
      "id": "OSjpk7QD1Q8H",
      "execution_count": 20,
      "outputs": []
    },
    {
      "cell_type": "code",
      "source": [
        "train_images.shape"
      ],
      "metadata": {
        "colab": {
          "base_uri": "https://localhost:8080/"
        },
        "id": "iHfKOf9n1VTV",
        "outputId": "521a38f8-9785-4693-ee62-11a656deec28"
      },
      "id": "iHfKOf9n1VTV",
      "execution_count": 21,
      "outputs": [
        {
          "output_type": "execute_result",
          "data": {
            "text/plain": [
              "(60000, 28, 28)"
            ]
          },
          "metadata": {},
          "execution_count": 21
        }
      ]
    },
    {
      "cell_type": "code",
      "source": [
        "train_images = train_images.reshape((60000, 28, 28, 1)).astype('float32') / 255\n",
        "test_images = test_images.reshape((10000, 28, 28, 1)).astype('float32') / 255"
      ],
      "metadata": {
        "id": "qFvFyC301wgw"
      },
      "id": "qFvFyC301wgw",
      "execution_count": 22,
      "outputs": []
    },
    {
      "cell_type": "code",
      "source": [
        "from matplotlib import pyplot as plt\n",
        "%matplotlib inline\n",
        "\n",
        "plt.imshow(train_images[0])\n",
        "plt.title(f\"Class: {train_labels[0]}\")\n",
        "\n",
        "\n",
        "plt.show()"
      ],
      "metadata": {
        "colab": {
          "base_uri": "https://localhost:8080/",
          "height": 452
        },
        "id": "so3vAjSv2kmx",
        "outputId": "73ffe4af-85ef-41be-97f4-12d8d51a7058"
      },
      "id": "so3vAjSv2kmx",
      "execution_count": 23,
      "outputs": [
        {
          "output_type": "display_data",
          "data": {
            "text/plain": [
              "<Figure size 640x480 with 1 Axes>"
            ],
            "image/png": "[encoded data removed]"
          },
          "metadata": {}
        }
      ]
    },
    {
      "cell_type": "code",
      "source": [
        "train_labels = to_categorical(train_labels)\n",
        "test_labels = to_categorical(test_labels)\n"
      ],
      "metadata": {
        "id": "NeFQM6TB3jA0"
      },
      "id": "NeFQM6TB3jA0",
      "execution_count": 24,
      "outputs": []
    },
    {
      "cell_type": "code",
      "source": [
        "model = models.Sequential([\n",
        "    layers.Flatten(input_shape = (28,28,1)),\n",
        "    layers.Dense(128 , activation = 'relu'),\n",
        "    layers.Dense(10 , activation = 'softmax')\n",
        "])"
      ],
      "metadata": {
        "id": "0YP71aYS32mb"
      },
      "id": "0YP71aYS32mb",
      "execution_count": 25,
      "outputs": []
    },
    {
      "cell_type": "code",
      "source": [
        "model.compile(optimizer = 'Adam' , loss = 'categorical_crossentropy' , metrics = ['accuracy'])"
      ],
      "metadata": {
        "id": "2JVUxuy1410z"
      },
      "id": "2JVUxuy1410z",
      "execution_count": 26,
      "outputs": []
    },
    {
      "cell_type": "code",
      "source": [
        "model.fit(train_images, train_labels, epochs=5, batch_size=64, validation_data=(test_images, test_labels))"
      ],
      "metadata": {
        "colab": {
          "base_uri": "https://localhost:8080/"
        },
        "id": "7V9RIDhT5YZ3",
        "outputId": "77b80450-4752-42b4-dc3e-5ef18b94d46d"
      },
      "id": "7V9RIDhT5YZ3",
      "execution_count": 27,
      "outputs": [
        {
          "output_type": "stream",
          "name": "stdout",
          "text": [
            "Epoch 1/5\n",
            "938/938 [==============================] - 4s 4ms/step - loss: 0.5209 - accuracy: 0.8203 - val_loss: 0.4715 - val_accuracy: 0.8291\n",
            "Epoch 2/5\n",
            "938/938 [==============================] - 3s 3ms/step - loss: 0.3919 - accuracy: 0.8615 - val_loss: 0.4052 - val_accuracy: 0.8580\n",
            "Epoch 3/5\n",
            "938/938 [==============================] - 2s 2ms/step - loss: 0.3522 - accuracy: 0.8747 - val_loss: 0.3822 - val_accuracy: 0.8641\n",
            "Epoch 4/5\n",
            "938/938 [==============================] - 2s 3ms/step - loss: 0.3288 - accuracy: 0.8813 - val_loss: 0.3680 - val_accuracy: 0.8691\n",
            "Epoch 5/5\n",
            "938/938 [==============================] - 4s 4ms/step - loss: 0.3076 - accuracy: 0.8878 - val_loss: 0.3551 - val_accuracy: 0.8741\n"
          ]
        },
        {
          "output_type": "execute_result",
          "data": {
            "text/plain": [
              "<keras.src.callbacks.History at 0x78f6b2e80c10>"
            ]
          },
          "metadata": {},
          "execution_count": 27
        }
      ]
    },
    {
      "cell_type": "code",
      "source": [
        "test_loss, test_acc = model.evaluate(test_images, test_labels)\n",
        "print(f\"Test accuracy: {test_acc}\")"
      ],
      "metadata": {
        "colab": {
          "base_uri": "https://localhost:8080/"
        },
        "id": "Yy8FePtc50lw",
        "outputId": "bffb0bc1-d7f1-43e6-e355-09cfe8e8f12b"
      },
      "id": "Yy8FePtc50lw",
      "execution_count": 28,
      "outputs": [
        {
          "output_type": "stream",
          "name": "stdout",
          "text": [
            "313/313 [==============================] - 1s 4ms/step - loss: 0.3551 - accuracy: 0.8741\n",
            "Test accuracy: 0.8741000294685364\n"
          ]
        }
      ]
    }
  ],
  "metadata": {
    "kernelspec": {
      "display_name": "Python 3 (ipykernel)",
      "language": "python",
      "name": "python3"
    },
    "language_info": {
      "codemirror_mode": {
        "name": "ipython",
        "version": 3
      },
      "file_extension": ".py",
      "mimetype": "text/x-python",
      "name": "python",
      "nbconvert_exporter": "python",
      "pygments_lexer": "ipython3",
      "version": "3.11.3"
    },
    "toc": {
      "base_numbering": 1,
      "nav_menu": {},
      "number_sections": true,
      "sideBar": true,
      "skip_h1_title": false,
      "title_cell": "Table of Contents",
      "title_sidebar": "Contents",
      "toc_cell": false,
      "toc_position": {},
      "toc_section_display": true,
      "toc_window_display": false
    },
    "colab": {
      "provenance": []
    }
  },
  "nbformat": 4,
  "nbformat_minor": 5
}